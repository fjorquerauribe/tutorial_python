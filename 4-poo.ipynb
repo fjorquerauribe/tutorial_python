{
 "cells": [
  {
   "cell_type": "code",
   "execution_count": 79,
   "metadata": {},
   "outputs": [],
   "source": [
    "import pandas as pd\n",
    "import numpy as np\n",
    "import random\n",
    "import matplotlib.pyplot as plt"
   ]
  },
  {
   "cell_type": "markdown",
   "metadata": {},
   "source": [
    "# Programación orientada a objetos (POO)\n",
    "Es un paradigma de programación, es decir, un modelo básico de diseño y desarrollo de programas. En particular, bajo el paradigma de programación orientada a objetos, se modelan las entidades del mundo real, en términos de clases y objetos. Los objetivos de la POO son:\n",
    "- Organizar el código fuente, y\n",
    "- re-usar código fuente en similares contextos."
   ]
  },
  {
   "cell_type": "markdown",
   "metadata": {},
   "source": [
    "## Conceptos importantes en POO:\n",
    "- Objetos: Abstracciones de los datos. Todos los datos en Python están representados por objetos o por relaciones de objetos.\n",
    "- Atributos: Son características que puede tener un objeto. \n",
    "- Métodos: Operaciones que se pueden realizar con los objetos.\n",
    "- Clases: Es una \"plantilla\" genérica de ciertos tipos de objetos. Puede proporcionar variables iniciales de estado (donde se guardan los atributos) e implementaciones de comportamiento (métodos) necesarias para crear nuevos objetos.\n",
    "- Herencia: Permite crear clases a partir de otra ya existentes."
   ]
  },
  {
   "cell_type": "markdown",
   "metadata": {},
   "source": [
    "## Ejemplo Clase"
   ]
  },
  {
   "cell_type": "code",
   "execution_count": 2,
   "metadata": {},
   "outputs": [],
   "source": [
    "class MyClass:\n",
    "    def __init__(self, param1, param2):\n",
    "        self.attr1 = param1\n",
    "        self.attr2 = param2\n",
    "        self.attr3 = \"Hello World!!!\"\n",
    "        \n",
    "    def first_method(self, param1 = 1):\n",
    "        attr1 = param1\n",
    "        print(attr1)"
   ]
  },
  {
   "cell_type": "markdown",
   "metadata": {},
   "source": [
    "## Ejemplo Herencia"
   ]
  },
  {
   "cell_type": "code",
   "execution_count": 72,
   "metadata": {},
   "outputs": [],
   "source": [
    "class Person:\n",
    "    def __init__(self, name, age):\n",
    "        self.name = name\n",
    "        self.age = age\n",
    "\n",
    "class Student(Person):\n",
    "    def __init__(self, name, age):\n",
    "        Person.__init__(self, name, age)\n",
    "        \n",
    "    def say_hello(self):\n",
    "        print(\"Hello! My name is \" + self.name)"
   ]
  },
  {
   "cell_type": "code",
   "execution_count": 73,
   "metadata": {},
   "outputs": [],
   "source": [
    "student = Student(\"Michael Jordan\", 50)"
   ]
  },
  {
   "cell_type": "code",
   "execution_count": 74,
   "metadata": {},
   "outputs": [
    {
     "name": "stdout",
     "output_type": "stream",
     "text": [
      "Hello! My name is Michael Jordan\n"
     ]
    }
   ],
   "source": [
    "student.say_hello()"
   ]
  },
  {
   "cell_type": "code",
   "execution_count": 77,
   "metadata": {},
   "outputs": [
    {
     "data": {
      "text/plain": [
       "50"
      ]
     },
     "execution_count": 77,
     "metadata": {},
     "output_type": "execute_result"
    }
   ],
   "source": [
    "student.age"
   ]
  },
  {
   "cell_type": "markdown",
   "metadata": {},
   "source": [
    "## Ejemplo práctico"
   ]
  },
  {
   "cell_type": "code",
   "execution_count": 98,
   "metadata": {},
   "outputs": [],
   "source": [
    "class Clustering:\n",
    "    def __init__(self):\n",
    "        self._X = None\n",
    "        self.labels = []\n",
    "        \n",
    "    def plot(self, path_file = ''):\n",
    "        unique_labels = set(self.labels)\n",
    "        \n",
    "        # Se generan colores para cada cluster (etiqueta)\n",
    "        colors = [plt.cm.Spectral(each)\n",
    "                  for each in np.linspace(0, 1, len(unique_labels))]\n",
    "        \n",
    "        # Se dibujan los cluster usando su respectivo color\n",
    "        for k, col in zip(unique_labels, colors):\n",
    "            if k == -1:\n",
    "                col = [0, 0, 0, 1]\n",
    "            \n",
    "            xy = self._X[np.array(self.labels) == k]\n",
    "            plt.plot(xy['A'], xy['B'], 'o', markerfacecolor = tuple(col),\n",
    "                     markeredgecolor = 'k', markersize = 14)\n",
    "            plt.title('Clustering')\n",
    "        \n",
    "        # Si el parametro no es un string vacio, se guarda el plot en la direccion dada\n",
    "        if(path_file != ''):\n",
    "            plt.savefig(path_file)\n",
    "        \n",
    "        plt.show()"
   ]
  },
  {
   "cell_type": "code",
   "execution_count": 102,
   "metadata": {},
   "outputs": [],
   "source": [
    "class DBSCAN(Clustering):\n",
    "    def __init__(self, eps, n):\n",
    "        Clustering.__init__(self)\n",
    "        self.__eps = eps\n",
    "        self.__n = n\n",
    "        self.__eps = eps\n",
    "        self.__n = n\n",
    "    \n",
    "    def __getNeighbors(self, P):\n",
    "        neighbors = []\n",
    "        \n",
    "        # Se calcula la distancia del punto a cada uno de los demas\n",
    "        for idx in range(len(self._X)):\n",
    "            if(np.linalg.norm(self._X.iloc[P] - self._X.iloc[idx]) < self.__eps):\n",
    "                neighbors.append(idx)\n",
    "        return(neighbors)\n",
    "        \n",
    "    def fit(self, X):\n",
    "        self._X = X\n",
    "        # Se reordenan los datos para comenzar aleatoriamente la construccion de los clusters\n",
    "        \n",
    "        # Al principio ninguno esta asignado a un cluster\n",
    "        self.labels = [0] * len(self._X)\n",
    "        C = 0\n",
    "\n",
    "        for idx in range(len(self._X)):\n",
    "            \n",
    "            if not(self.labels[idx] == 0):\n",
    "                continue\n",
    "            \n",
    "            # Se buscan los vecinos del punto en la posicion idx\n",
    "            neighbors =  self.__getNeighbors(idx)\n",
    "\n",
    "            # Si la cantidad de vecinos es menor a N, entonces el punto es ruido (label = -1)\n",
    "            if(len(neighbors) < self.__n):\n",
    "                self.labels[idx] = -1\n",
    "            # Sino, entonces es un punto de referencia y se inicia un cluster sobre el\n",
    "            else:\n",
    "                C+=1\n",
    "                \n",
    "                # Se aniade el punto al cluster\n",
    "                self.labels[idx] = C\n",
    "                \n",
    "                # Para los vecinos del punto y los vecinos de los vecinos\n",
    "                i = 0\n",
    "                while i < len(neighbors):\n",
    "                    newpoint = neighbors[i]\n",
    "\n",
    "                    # Si el vecino del punto anterior aun no ha sido visitado\n",
    "                    # se aniade al cluster del punto y se buscan sus vecinos\n",
    "                    if self.labels[newpoint] == 0:\n",
    "                        self.labels[newpoint] = C\n",
    "\n",
    "                        PnNeighborsPts = self.__getNeighbors(newpoint)\n",
    "\n",
    "                        # Si la cantidad de vecinos del nuevo punto es mayor a N\n",
    "                        # se aniaden los vecinos a la lista de vecinos del punto anterior\n",
    "                        if(len(PnNeighborsPts) >= self.__n):\n",
    "                            neighbors = neighbors + PnNeighborsPts\n",
    "                    \n",
    "                    # Si el punto aun no ha sido asignado a ningun cluster, se le\n",
    "                    # asigna al cluster del punto anterior\n",
    "                    elif self.labels[newpoint] == -1:\n",
    "                        self.labels[newpoint] = C\n",
    "                    \n",
    "                    i+=1\n",
    "    \n",
    "    def predict(self, Xnew):\n",
    "        labels_new = []\n",
    "        for i in range(len(Xnew)):\n",
    "            neighbors = []\n",
    "            distances = []\n",
    "        \n",
    "            # Se calcula la distancia del punto a cada uno de los demas\n",
    "            for idx in range(len(self._X)):\n",
    "                dist = np.linalg.norm(Xnew.iloc[i] - self._X.iloc[idx])\n",
    "                if(dist < self.__eps):\n",
    "                    neighbors.append(idx)\n",
    "                    distances.append(dist)\n",
    "            \n",
    "            # Si se encuentra algun vecino, se le asigna la etiqueta del mas cercano\n",
    "            if len(distances) > 0:\n",
    "                labels_new.append(self.labels[neighbors[np.argmin(distances)]])\n",
    "            # Sino, se etiqueta como ruido\n",
    "            else:\n",
    "                labels_new.append(-1)\n",
    "        return(labels_new)"
   ]
  },
  {
   "cell_type": "code",
   "execution_count": 103,
   "metadata": {},
   "outputs": [
    {
     "data": {
      "text/html": [
       "<div>\n",
       "<style scoped>\n",
       "    .dataframe tbody tr th:only-of-type {\n",
       "        vertical-align: middle;\n",
       "    }\n",
       "\n",
       "    .dataframe tbody tr th {\n",
       "        vertical-align: top;\n",
       "    }\n",
       "\n",
       "    .dataframe thead th {\n",
       "        text-align: right;\n",
       "    }\n",
       "</style>\n",
       "<table border=\"1\" class=\"dataframe\">\n",
       "  <thead>\n",
       "    <tr style=\"text-align: right;\">\n",
       "      <th></th>\n",
       "      <th>A</th>\n",
       "      <th>B</th>\n",
       "    </tr>\n",
       "  </thead>\n",
       "  <tbody>\n",
       "    <tr>\n",
       "      <th>0</th>\n",
       "      <td>31.95</td>\n",
       "      <td>7.95</td>\n",
       "    </tr>\n",
       "    <tr>\n",
       "      <th>1</th>\n",
       "      <td>31.15</td>\n",
       "      <td>7.30</td>\n",
       "    </tr>\n",
       "    <tr>\n",
       "      <th>2</th>\n",
       "      <td>30.45</td>\n",
       "      <td>6.65</td>\n",
       "    </tr>\n",
       "    <tr>\n",
       "      <th>3</th>\n",
       "      <td>29.70</td>\n",
       "      <td>6.00</td>\n",
       "    </tr>\n",
       "    <tr>\n",
       "      <th>4</th>\n",
       "      <td>28.90</td>\n",
       "      <td>5.55</td>\n",
       "    </tr>\n",
       "  </tbody>\n",
       "</table>\n",
       "</div>"
      ],
      "text/plain": [
       "       A     B\n",
       "0  31.95  7.95\n",
       "1  31.15  7.30\n",
       "2  30.45  6.65\n",
       "3  29.70  6.00\n",
       "4  28.90  5.55"
      ]
     },
     "execution_count": 103,
     "metadata": {},
     "output_type": "execute_result"
    }
   ],
   "source": [
    "# Carga de datps\n",
    "spiral = pd.read_csv('./data/spiral.txt', sep = '\\t', header = None)\n",
    "spiral.columns = ['A', 'B', 'Cluster']\n",
    "X = spiral.drop(['Cluster'], axis = 1)\n",
    "X.head()"
   ]
  },
  {
   "cell_type": "code",
   "execution_count": 108,
   "metadata": {},
   "outputs": [],
   "source": [
    "mydbscan = DBSCAN(2, 4)\n",
    "mydbscan.fit(X = X)"
   ]
  },
  {
   "cell_type": "code",
   "execution_count": 109,
   "metadata": {},
   "outputs": [
    {
     "name": "stdout",
     "output_type": "stream",
     "text": [
      "         A      B\n",
      "0    31.95   7.95\n",
      "1    31.15   7.30\n",
      "2    30.45   6.65\n",
      "3    29.70   6.00\n",
      "4    28.90   5.55\n",
      "..     ...    ...\n",
      "307  15.75  13.85\n",
      "308  15.65  14.05\n",
      "309  15.65  14.25\n",
      "310  15.65  14.50\n",
      "311  15.65  14.60\n",
      "\n",
      "[312 rows x 2 columns]\n",
      "[1, 1, 1, 1, 1, 1, 1, 1, 1, 1, 1, 1, 1, 1, 1, 1, 1, 1, 1, 1, 1, 1, 1, 1, 1, 1, 1, 1, 1, 1, 1, 1, 1, 1, 1, 1, 1, 1, 1, 1, 1, 1, 1, 1, 1, 1, 1, 1, 1, 1, 1, 1, 1, 1, 1, 1, 1, 1, 1, 1, 1, 1, 1, 1, 1, 1, 1, 1, 1, 1, 1, 1, 1, 1, 1, 1, 1, 1, 1, 1, 1, 1, 1, 1, 1, 1, 1, 1, 1, 1, 1, 1, 1, 1, 1, 1, 1, 1, 1, 1, 1, 1, 1, 1, 1, 1, 2, 2, 2, 2, 2, 2, 2, 2, 2, 2, 2, 2, 2, 2, 2, 2, 2, 2, 2, 2, 2, 2, 2, 2, 2, 2, 2, 2, 2, 2, 2, 2, 2, 2, 2, 2, 2, 2, 2, 2, 2, 2, 2, 2, 2, 2, 2, 2, 2, 2, 2, 2, 2, 2, 2, 2, 2, 2, 2, 2, 2, 2, 2, 2, 2, 2, 2, 2, 2, 2, 2, 2, 2, 2, 2, 2, 2, 2, 2, 2, 2, 2, 2, 2, 2, 2, 2, 2, 2, 2, 2, 2, 2, 2, 2, 2, 2, 2, 2, 2, 2, 3, 3, 3, 3, 3, 3, 3, 3, 3, 3, 3, 3, 3, 3, 3, 3, 3, 3, 3, 3, 3, 3, 3, 3, 3, 3, 3, 3, 3, 3, 3, 3, 3, 3, 3, 3, 3, 3, 3, 3, 3, 3, 3, 3, 3, 3, 3, 3, 3, 3, 3, 3, 3, 3, 3, 3, 3, 3, 3, 3, 3, 3, 3, 3, 3, 3, 3, 3, 3, 3, 3, 3, 3, 3, 3, 3, 3, 3, 3, 3, 3, 3, 3, 3, 3, 3, 3, 3, 3, 3, 3, 3, 3, 3, 3, 3, 3, 3, 3, 3, 3, 3, 3, 3, 3]\n"
     ]
    },
    {
     "data": {
      "image/png": "[encoded data removed]",
      "text/plain": [
       "<Figure size 432x288 with 1 Axes>"
      ]
     },
     "metadata": {
      "needs_background": "light"
     },
     "output_type": "display_data"
    }
   ],
   "source": [
    "mydbscan.plot()"
   ]
  }
 ],
 "metadata": {
  "kernelspec": {
   "display_name": "Python 3",
   "language": "python",
   "name": "python3"
  },
  "language_info": {
   "codemirror_mode": {
    "name": "ipython",
    "version": 3
   },
   "file_extension": ".py",
   "mimetype": "text/x-python",
   "name": "python",
   "nbconvert_exporter": "python",
   "pygments_lexer": "ipython3",
   "version": "3.8.2"
  }
 },
 "nbformat": 4,
 "nbformat_minor": 4
}
